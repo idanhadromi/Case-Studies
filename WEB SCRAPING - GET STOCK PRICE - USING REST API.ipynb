{
 "cells": [
  {
   "cell_type": "markdown",
   "metadata": {},
   "source": [
    "# WEB SCRAPING - GET STOCK PRICE - USING REST API"
   ]
  },
  {
   "cell_type": "markdown",
   "metadata": {},
   "source": [
    "### Table of content:\n",
    "    1.Historical data - yfinance library \n",
    "    2.Historical data - REST API\n",
    "    3.Streaming Data REST API - [Using BeautifulSoup] \n",
    "    4.Streaming Data REST API & Web Crawling- [Using Selenium]"
   ]
  },
  {
   "cell_type": "markdown",
   "metadata": {},
   "source": [
    "### 1 Historical data - Using yahoo finance library"
   ]
  },
  {
   "cell_type": "code",
   "execution_count": 7,
   "metadata": {},
   "outputs": [
    {
     "data": {
      "text/plain": [
       "'! pip install yfinance'"
      ]
     },
     "execution_count": 7,
     "metadata": {},
     "output_type": "execute_result"
    }
   ],
   "source": [
    "# Install yfinance library\n",
    "! pip install yfinance "
   ]
  },
  {
   "cell_type": "code",
   "execution_count": 11,
   "metadata": {},
   "outputs": [],
   "source": [
    "#import libraries\n",
    "import yfinance as yf"
   ]
  },
  {
   "cell_type": "code",
   "execution_count": 12,
   "metadata": {},
   "outputs": [],
   "source": [
    "#select stock symbol\n",
    "tsla = yf.Ticker(\"TSLA\")"
   ]
  },
  {
   "cell_type": "code",
   "execution_count": 36,
   "metadata": {},
   "outputs": [
    {
     "data": {
      "text/html": [
       "<div>\n",
       "<style scoped>\n",
       "    .dataframe tbody tr th:only-of-type {\n",
       "        vertical-align: middle;\n",
       "    }\n",
       "\n",
       "    .dataframe tbody tr th {\n",
       "        vertical-align: top;\n",
       "    }\n",
       "\n",
       "    .dataframe thead th {\n",
       "        text-align: right;\n",
       "    }\n",
       "</style>\n",
       "<table border=\"1\" class=\"dataframe\">\n",
       "  <thead>\n",
       "    <tr style=\"text-align: right;\">\n",
       "      <th></th>\n",
       "      <th>Open</th>\n",
       "      <th>High</th>\n",
       "      <th>Low</th>\n",
       "      <th>Close</th>\n",
       "    </tr>\n",
       "    <tr>\n",
       "      <th>Date</th>\n",
       "      <th></th>\n",
       "      <th></th>\n",
       "      <th></th>\n",
       "      <th></th>\n",
       "    </tr>\n",
       "  </thead>\n",
       "  <tbody>\n",
       "    <tr>\n",
       "      <th>2020-08-11</th>\n",
       "      <td>279.20</td>\n",
       "      <td>284.00</td>\n",
       "      <td>273.00</td>\n",
       "      <td>274.88</td>\n",
       "    </tr>\n",
       "    <tr>\n",
       "      <th>2020-08-12</th>\n",
       "      <td>294.00</td>\n",
       "      <td>317.00</td>\n",
       "      <td>287.00</td>\n",
       "      <td>310.95</td>\n",
       "    </tr>\n",
       "    <tr>\n",
       "      <th>2020-08-13</th>\n",
       "      <td>322.20</td>\n",
       "      <td>330.24</td>\n",
       "      <td>313.45</td>\n",
       "      <td>324.20</td>\n",
       "    </tr>\n",
       "    <tr>\n",
       "      <th>2020-08-14</th>\n",
       "      <td>333.00</td>\n",
       "      <td>333.76</td>\n",
       "      <td>325.33</td>\n",
       "      <td>330.14</td>\n",
       "    </tr>\n",
       "    <tr>\n",
       "      <th>2020-08-17</th>\n",
       "      <td>335.40</td>\n",
       "      <td>369.17</td>\n",
       "      <td>334.57</td>\n",
       "      <td>367.13</td>\n",
       "    </tr>\n",
       "    <tr>\n",
       "      <th>2020-08-18</th>\n",
       "      <td>379.80</td>\n",
       "      <td>384.78</td>\n",
       "      <td>369.02</td>\n",
       "      <td>377.42</td>\n",
       "    </tr>\n",
       "    <tr>\n",
       "      <th>2020-08-19</th>\n",
       "      <td>373.00</td>\n",
       "      <td>382.20</td>\n",
       "      <td>368.24</td>\n",
       "      <td>375.71</td>\n",
       "    </tr>\n",
       "    <tr>\n",
       "      <th>2020-08-20</th>\n",
       "      <td>372.14</td>\n",
       "      <td>404.40</td>\n",
       "      <td>371.41</td>\n",
       "      <td>400.37</td>\n",
       "    </tr>\n",
       "    <tr>\n",
       "      <th>2020-08-21</th>\n",
       "      <td>408.95</td>\n",
       "      <td>419.10</td>\n",
       "      <td>405.01</td>\n",
       "      <td>410.00</td>\n",
       "    </tr>\n",
       "    <tr>\n",
       "      <th>2020-08-24</th>\n",
       "      <td>425.26</td>\n",
       "      <td>425.80</td>\n",
       "      <td>385.50</td>\n",
       "      <td>402.84</td>\n",
       "    </tr>\n",
       "    <tr>\n",
       "      <th>2020-08-25</th>\n",
       "      <td>394.98</td>\n",
       "      <td>405.59</td>\n",
       "      <td>393.60</td>\n",
       "      <td>404.67</td>\n",
       "    </tr>\n",
       "    <tr>\n",
       "      <th>2020-08-26</th>\n",
       "      <td>412.00</td>\n",
       "      <td>433.20</td>\n",
       "      <td>410.73</td>\n",
       "      <td>430.63</td>\n",
       "    </tr>\n",
       "    <tr>\n",
       "      <th>2020-08-27</th>\n",
       "      <td>436.09</td>\n",
       "      <td>459.12</td>\n",
       "      <td>428.50</td>\n",
       "      <td>447.75</td>\n",
       "    </tr>\n",
       "    <tr>\n",
       "      <th>2020-08-28</th>\n",
       "      <td>459.02</td>\n",
       "      <td>463.70</td>\n",
       "      <td>437.30</td>\n",
       "      <td>442.68</td>\n",
       "    </tr>\n",
       "    <tr>\n",
       "      <th>2020-08-31</th>\n",
       "      <td>444.61</td>\n",
       "      <td>500.14</td>\n",
       "      <td>440.11</td>\n",
       "      <td>498.32</td>\n",
       "    </tr>\n",
       "    <tr>\n",
       "      <th>2020-09-01</th>\n",
       "      <td>502.14</td>\n",
       "      <td>502.49</td>\n",
       "      <td>470.51</td>\n",
       "      <td>475.05</td>\n",
       "    </tr>\n",
       "    <tr>\n",
       "      <th>2020-09-02</th>\n",
       "      <td>478.99</td>\n",
       "      <td>479.04</td>\n",
       "      <td>405.12</td>\n",
       "      <td>447.37</td>\n",
       "    </tr>\n",
       "    <tr>\n",
       "      <th>2020-09-03</th>\n",
       "      <td>407.23</td>\n",
       "      <td>431.80</td>\n",
       "      <td>402.00</td>\n",
       "      <td>407.00</td>\n",
       "    </tr>\n",
       "    <tr>\n",
       "      <th>2020-09-04</th>\n",
       "      <td>402.81</td>\n",
       "      <td>428.00</td>\n",
       "      <td>372.02</td>\n",
       "      <td>418.32</td>\n",
       "    </tr>\n",
       "    <tr>\n",
       "      <th>2020-09-08</th>\n",
       "      <td>356.00</td>\n",
       "      <td>368.74</td>\n",
       "      <td>329.88</td>\n",
       "      <td>330.21</td>\n",
       "    </tr>\n",
       "    <tr>\n",
       "      <th>2020-09-09</th>\n",
       "      <td>356.60</td>\n",
       "      <td>369.00</td>\n",
       "      <td>341.51</td>\n",
       "      <td>366.28</td>\n",
       "    </tr>\n",
       "    <tr>\n",
       "      <th>2020-09-10</th>\n",
       "      <td>386.21</td>\n",
       "      <td>398.99</td>\n",
       "      <td>360.56</td>\n",
       "      <td>371.34</td>\n",
       "    </tr>\n",
       "  </tbody>\n",
       "</table>\n",
       "</div>"
      ],
      "text/plain": [
       "              Open    High     Low   Close\n",
       "Date                                      \n",
       "2020-08-11  279.20  284.00  273.00  274.88\n",
       "2020-08-12  294.00  317.00  287.00  310.95\n",
       "2020-08-13  322.20  330.24  313.45  324.20\n",
       "2020-08-14  333.00  333.76  325.33  330.14\n",
       "2020-08-17  335.40  369.17  334.57  367.13\n",
       "2020-08-18  379.80  384.78  369.02  377.42\n",
       "2020-08-19  373.00  382.20  368.24  375.71\n",
       "2020-08-20  372.14  404.40  371.41  400.37\n",
       "2020-08-21  408.95  419.10  405.01  410.00\n",
       "2020-08-24  425.26  425.80  385.50  402.84\n",
       "2020-08-25  394.98  405.59  393.60  404.67\n",
       "2020-08-26  412.00  433.20  410.73  430.63\n",
       "2020-08-27  436.09  459.12  428.50  447.75\n",
       "2020-08-28  459.02  463.70  437.30  442.68\n",
       "2020-08-31  444.61  500.14  440.11  498.32\n",
       "2020-09-01  502.14  502.49  470.51  475.05\n",
       "2020-09-02  478.99  479.04  405.12  447.37\n",
       "2020-09-03  407.23  431.80  402.00  407.00\n",
       "2020-09-04  402.81  428.00  372.02  418.32\n",
       "2020-09-08  356.00  368.74  329.88  330.21\n",
       "2020-09-09  356.60  369.00  341.51  366.28\n",
       "2020-09-10  386.21  398.99  360.56  371.34"
      ]
     },
     "execution_count": 36,
     "metadata": {},
     "output_type": "execute_result"
    }
   ],
   "source": [
    "tsla.history(period='1mo',interval='1d').iloc[:,0:4]"
   ]
  },
  {
   "cell_type": "markdown",
   "metadata": {},
   "source": [
    "### 2. Historical data - yahoo finance REST API"
   ]
  },
  {
   "cell_type": "markdown",
   "metadata": {},
   "source": [
    "**Connect To API**"
   ]
  },
  {
   "cell_type": "code",
   "execution_count": null,
   "metadata": {},
   "outputs": [],
   "source": [
    "import requests\n",
    "import json\n",
    "\n",
    "url = \"https://apidojo-yahoo-finance-v1.p.rapidapi.com/market/get-quotes?region=${region}&lang=${lang}&symbol=${tsla}\"\n",
    "\n",
    "headers = {\n",
    "    'x-rapidapi-host': \"apidojo-yahoo-finance-v1.p.rapidapi.com\",\n",
    "    'x-rapidapi-key': \"my_key\",\n",
    "    'x-rapidapi-proxy-secret': \"my_proxy\"\n",
    "    }\n",
    "\n",
    "response = requests.request(\"GET\", url, headers=headers)\n",
    "print(response)\n",
    "\n",
    "data = response.text\n",
    "parsed = json.loads(data)"
   ]
  },
  {
   "cell_type": "markdown",
   "metadata": {},
   "source": [
    "**Convert from string to Dictionary**"
   ]
  },
  {
   "cell_type": "code",
   "execution_count": 144,
   "metadata": {},
   "outputs": [],
   "source": [
    "data = response.text\n",
    "parsed = json.loads(data)"
   ]
  },
  {
   "cell_type": "markdown",
   "metadata": {},
   "source": [
    "**Get open price**"
   ]
  },
  {
   "cell_type": "code",
   "execution_count": null,
   "metadata": {},
   "outputs": [],
   "source": [
    "parsed['stock']['open']"
   ]
  },
  {
   "cell_type": "markdown",
   "metadata": {},
   "source": [
    "### 3.Streaming Data REST API - [Using BeautifulSoup]"
   ]
  },
  {
   "cell_type": "code",
   "execution_count": 133,
   "metadata": {},
   "outputs": [],
   "source": [
    "import requests\n",
    "from bs4 import BeautifulSoup\n",
    "from time import sleep\n",
    "from datetime import datetime"
   ]
  },
  {
   "cell_type": "code",
   "execution_count": 134,
   "metadata": {},
   "outputs": [],
   "source": [
    "stock = 'tsla'"
   ]
  },
  {
   "cell_type": "code",
   "execution_count": 135,
   "metadata": {},
   "outputs": [
    {
     "name": "stdout",
     "output_type": "stream",
     "text": [
      "16:28:21 441.76\n",
      "16:29:22 441.76\n",
      "16:30:23 416.01\n",
      "16:31:24 417.17\n",
      "16:32:25 419.91\n",
      "16:33:27 416.89\n",
      "16:34:28 413.78\n",
      "16:35:29 418.37\n",
      "16:36:30 420.11\n",
      "16:37:31 419.5\n",
      "16:38:32 418.57\n",
      "16:39:33 417.89\n",
      "16:40:34 419.72\n",
      "16:41:35 417.27\n",
      "16:42:37 417.88\n",
      "16:43:38 419.52\n",
      "16:44:39 417.9\n",
      "Finish\n"
     ]
    }
   ],
   "source": [
    "while True :\n",
    "    url = 'https://finance.yahoo.com/quote/'+stock.upper()+'?p='+stock+'&.tsrc=fin-srch'\n",
    "    data = requests.get(url, stream=True)\n",
    "    text = data.text\n",
    "    soup = BeautifulSoup(text,'html.parser')\n",
    "    x=soup.find('span',attrs = {'class':'Trsdu(0.3s) Fw(b) Fz(36px) Mb(-4px) D(ib)'}).text\n",
    "    stock_price = float(x)   \n",
    "    print(datetime.now().time().strftime(\"%H:%M:%S\"),stock_price)\n",
    "    sleep(60)\n",
    "    if(datetime.now().minute == 45):\n",
    "        print('Finish')\n",
    "        break"
   ]
  },
  {
   "cell_type": "markdown",
   "metadata": {},
   "source": [
    "### 4.Streaming Data REST API & Web Crawling- [Using Selenium]"
   ]
  },
  {
   "cell_type": "code",
   "execution_count": 136,
   "metadata": {},
   "outputs": [],
   "source": [
    "from fake_useragent import UserAgent\n",
    "from selenium import webdriver\n",
    "from webdriver_manager.chrome import ChromeDriverManager\n",
    "from selenium.webdriver.common.keys import Keys\n",
    "from bs4 import BeautifulSoup\n",
    "from time import sleep \n",
    "import requests\n"
   ]
  },
  {
   "cell_type": "code",
   "execution_count": 141,
   "metadata": {},
   "outputs": [
    {
     "name": "stderr",
     "output_type": "stream",
     "text": [
      "[WDM] - Current google-chrome version is 84.0.4147\n",
      "[WDM] - Get LATEST driver version for 84.0.4147\n"
     ]
    },
    {
     "name": "stdout",
     "output_type": "stream",
     "text": [
      " \n"
     ]
    },
    {
     "name": "stderr",
     "output_type": "stream",
     "text": [
      "[WDM] - Driver [/home/idan/.wdm/drivers/chromedriver/linux64/84.0.4147.30/chromedriver] found in cache\n"
     ]
    },
    {
     "name": "stdout",
     "output_type": "stream",
     "text": [
      "16:57:31 425.92\n",
      "16:58:32 427.48\n",
      "16:59:32 429.01\n",
      "Finish\n"
     ]
    }
   ],
   "source": [
    "driver = webdriver.Chrome(ChromeDriverManager().install())\n",
    "driver.get('https://finance.yahoo.com/quote/')\n",
    "driver.find_element_by_xpath('//input').send_keys('tsla')\n",
    "sleep(3)\n",
    "driver.find_element_by_xpath('//div[@class = \"modules_quoteSymbol__3Vtbg modules_Ell__1-r-H modules_IbBox__2YYTq\"]').click()\n",
    "sleep(3)\n",
    "\n",
    "while True :\n",
    "    extract_price = driver.find_element_by_xpath('//span[@class = \"Trsdu(0.3s) Fw(b) Fz(36px) Mb(-4px) D(ib)\"]').text\n",
    "    stock_price = float(extract_price)\n",
    "    print(datetime.now().time().strftime(\"%H:%M:%S\"),stock_price)\n",
    "    sleep(60)\n",
    "    if(datetime.now().minute == 00):\n",
    "        driver.close()\n",
    "        print('Finish')\n",
    "        break"
   ]
  }
 ],
 "metadata": {
  "kernelspec": {
   "display_name": "Python 3",
   "language": "python",
   "name": "python3"
  },
  "language_info": {
   "codemirror_mode": {
    "name": "ipython",
    "version": 3
   },
   "file_extension": ".py",
   "mimetype": "text/x-python",
   "name": "python",
   "nbconvert_exporter": "python",
   "pygments_lexer": "ipython3",
   "version": "3.8.3"
  }
 },
 "nbformat": 4,
 "nbformat_minor": 4
}
